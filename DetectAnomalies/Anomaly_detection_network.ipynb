{
 "cells": [
  {
   "cell_type": "markdown",
   "metadata": {
    "pycharm": {
     "name": "#%% md\n"
    }
   },
   "source": [
    "# Anomaly Detection - network trace"
   ]
  },
  {
   "cell_type": "markdown",
   "metadata": {
    "pycharm": {
     "name": "#%% md\n"
    }
   },
   "source": [
    "[![Open In Colab](https://colab.research.google.com/assets/colab-badge.svg)](https://colab.research.google.com/github/netdata/netdata/blob/master/ml/notebooks/netdata_anomaly_detection_deepdive.ipynb)"
   ]
  },
  {
   "cell_type": "markdown",
   "metadata": {
    "pycharm": {
     "name": "#%% md\n"
    }
   },
   "source": [
    "This notebook will walk through a simplified python based implementation of the C & C++ code in [`netdata/netdata/ml/`](https://github.com/netdata/netdata/tree/master/ml) used to power the [anomaly detection capabilities](https://github.com/netdata/netdata/blob/master/ml/README.md) of the Netdata agent.\n",
    "\n",
    "The main goal here is to help interested users learn more about how the machine learning works under the hood. If you just want to get started by enabling ml on your agent you can check out these [simple configuration steps](https://learn.netdata.cloud/docs/agent/ml#configuration). \n",
    "\n",
    "🚧 **Note**: This functionality is still under active development and considered experimental. Changes might cause the feature to break. We dogfood it internally and among early adopters within the Netdata community to build the feature. If you would like to get involved and help us with some feedback, email us at analytics-ml-team@netdata.cloud or come join us in the [🤖-ml-powered-monitoring](https://discord.gg/4eRSEUpJnc) channel of the Netdata discord. Alternativley, if GitHub is more of your thing, feel free to create a [GitHub discussion](https://github.com/netdata/netdata/discussions?discussions_q=label%3Aarea%2Fml).\n",
    "\n",
    "In this notebook we will:\n",
    "\n",
    "1. [**Get raw data**](#get-raw-data): Pull some recent data from one of our demo agents.\n",
    "2. [**Lets do some ML!**](#lets-do-some-ml): Implement an unsupervised clustering based approach to anomaly detection.\n",
    "3. [**Lets visualize all this!**](#lets-visualize-all-this): Plot and explore all this visually.\n",
    "4. [**So, how does it _actually_ work?**](#so-how-does-it-actually-work): Dig a little deeper on what's going on under the hood."
   ]
  },
  {
   "cell_type": "markdown",
   "metadata": {
    "pycharm": {
     "name": "#%% md\n"
    }
   },
   "source": [
    "### Imports & Helper Functions"
   ]
  },
  {
   "cell_type": "markdown",
   "metadata": {
    "pycharm": {
     "name": "#%% md\n"
    }
   },
   "source": [
    "Uncomment and run the next cell to install [netdata-pandas](https://github.com/netdata/netdata-pandas) which we will use to easily pull data from the [Netdata agent REST API](https://learn.netdata.cloud/docs/agent/web/api) into a nice clean [Pandas](https://pandas.pydata.org/) [DataFrame](https://pandas.pydata.org/docs/reference/api/pandas.DataFrame.html) where it will be easier to work with. \n",
    "\n",
    "Once you have [netdata-pandas](https://github.com/netdata/netdata-pandas) installed you can comment it back out and rerun the cell to clear the output."
   ]
  },
  {
   "cell_type": "code",
   "execution_count": 1,
   "metadata": {
    "id": "aL4gm-jUffEx",
    "pycharm": {
     "is_executing": true
    }
   },
   "outputs": [],
   "source": [
    "# uncomment the line below (when running in google colab) to install the netdata-pandas library, comment it again when done.\n",
    "#!pip install netdata-pandas"
   ]
  },
  {
   "cell_type": "code",
   "execution_count": 2,
   "metadata": {
    "id": "EMZBHjG4mOQh",
    "pycharm": {
     "is_executing": true
    }
   },
   "outputs": [],
   "source": [
    "import time\n",
    "from datetime import datetime, timedelta\n",
    "import itertools\n",
    "import random\n",
    "import pandas as pd\n",
    "import numpy as np\n",
    "import matplotlib.pyplot as plt\n",
    "import seaborn as sns\n",
    "import matplotlib.patches as mpatches\n",
    "from sklearn.cluster import KMeans\n",
    "from scipy.spatial.distance import cdist\n",
    "from netdata_pandas.data import get_data\n",
    "import warnings\n",
    "warnings.filterwarnings('ignore')\n",
    "\n",
    "# helper functions\n",
    "\n",
    "\n",
    "def preprocess_df(df, lags_n, diffs_n, smooth_n):\n",
    "    \"\"\"Given a pandas dataframe preprocess it to take differences, add smoothing, lags and abs values. \n",
    "    \"\"\"\n",
    "    if diffs_n >= 1:\n",
    "        # take differences\n",
    "        df = df.diff(diffs_n).dropna()\n",
    "    if smooth_n >= 2:\n",
    "        # apply a rolling average to smooth out the data a bit\n",
    "        df = df.rolling(smooth_n).mean().dropna()\n",
    "    if lags_n >= 1:\n",
    "        # for each dimension add a new columns for each of lags_n lags of the differenced and smoothed values for that dimension\n",
    "        df_columns_new = [f'{col}_lag{n}' for n in range(lags_n+1) for col in df.columns]\n",
    "        df = pd.concat([df.shift(n) for n in range(lags_n + 1)], axis=1).dropna()\n",
    "        df.columns = df_columns_new\n",
    "    # sort columns to have lagged values next to each other for clarity when looking at the feature vectors\n",
    "    df = df.reindex(sorted(df.columns), axis=1)\n",
    "    \n",
    "    # take absolute values as last step\n",
    "    df = abs(df)\n",
    "    \n",
    "    return df\n",
    "\n",
    "\n",
    "def add_shading_to_plot(ax, a, b, t, c='y', alpha=0.2):\n",
    "    \"\"\"Helper function to add shading to plot and add legend item.\n",
    "    \"\"\"\n",
    "    plt.axvspan(a, b, color=c, alpha=alpha, lw=0)\n",
    "    handles, labels = ax.get_legend_handles_labels()\n",
    "    patch = mpatches.Patch(color=c, label=t, alpha=alpha)\n",
    "    handles.append(patch) \n",
    "    plt.legend(handles=handles)\n",
    "\n"
   ]
  },
  {
   "cell_type": "markdown",
   "metadata": {},
   "source": [
    "A full list of all the anomaly detection configuration parameters, and descriptions of each, can be found in the [configuration](https://github.com/netdata/netdata/blob/master/ml/README.md#configuration) section of the [ml readme](https://github.com/netdata/netdata/blob/master/ml/README.md).\n",
    "\n",
    "Below we will focus on some basic params to decide what data to pull and the main ml params of importance in understanding how it all works.\n",
    "\n",
    "#### training size/scheduling parameters:\n",
    "- `train_every`: How often to train or retrain each model.\n",
    "- `num_samples_to_train`: How much of the recent data to train on, for example 3600 would mean training on the last 1 hour of raw data. The default in the netdata agent currently is 14400, so last 4 hours.\n",
    "\n",
    "#### feature preprocessing related parameters:\n",
    "- `num_samples_to_diff`: This is really just a 1 or 0 flag to turn on or off differencing in the feature preprocessing. It defaults to 1 (to take differences) and generally should be left alone.\n",
    "- `num_samples_to_smooth`: The extent of smoothing (averaging) applied as part of feature preprocessing.\n",
    "- `num_samples_to_lag`: The number of previous values to also include in our feature vector.\n",
    "\n",
    "#### anomaly score related parameters:\n",
    "- `dimension_anomaly_score_threshold`: The threshold on the anomaly score, above which the data it considered anomalous and the [anomaly bit](https://github.com/netdata/netdata/blob/master/ml/README.md#anomaly-bit) is set to 1 (its actually set to 100 in reality but this just to make it behave more like a rate when aggregated in the netdata agent api). By default this is `0.99` which means anything with an anomaly score above 99% is considered anomalous. Decreasing this threshold makes the model more sensitive and will leave to more anomaly bits, increasing it does the opposite.\n",
    "\n",
    "#### model parameters:\n",
    "- `n_clusters_per_dimension`: This is the number of clusters to fit for each model, by default it is set to 2 such that 2 cluster [centroids](https://en.wikipedia.org/wiki/Centroid) will be fit for each model.\n",
    "- `max_iterations`: The maximum number of iterations the fitting of the clusters is allowed to take. In reality the clustering will converge a lot sooner than this.\n",
    "\n",
    "**Note**: There is much more detailed discussion of all there configuration parameters in the [\"Configuration\"](https://github.com/netdata/netdata/blob/master/ml/README.md#configuration) section of the ml readme."
   ]
  },
  {
   "cell_type": "code",
   "execution_count": 3,
   "metadata": {
    "id": "tBUVUpR3fohX"
   },
   "outputs": [],
   "source": [
    "start_time = time.monotonic()\n",
    "# data params\n",
    "hosts = ['0.0.0.0:19999']#,'194.182.172.55:19999'#,'185.150.9.185:19999'#['london.my-netdata.io']\n",
    "charts = ['net.enp0s31f6'] #['system.cpu'] #['system.ram'] #['system.ram'] #['services.cpu'] #['services.mem_usage'] #['services.cpu'] #['apps.vmem'] #\n",
    "# if want to just focus on a subset of dims, in this case lets just pick one for simplicity\n",
    "dims =  ['net.enp0s31f6|received'] #['system.cpu|user'] #['system.ram|used'] #['system.ram|used'] #['services.cpu|docker'] #['services.mem_usage|docker']\n",
    "num_of_days = 30\n",
    "last_n_hours = num_of_days*24\n",
    "# based on last_n_hours define the relevant 'before' and 'after' params for the netdata rest api on the agent\n",
    "before = int(datetime.utcnow().timestamp())\n",
    "after = int((datetime.utcnow() - timedelta(hours=last_n_hours)).timestamp())\n",
    "\n",
    "# ml params\n",
    "train_every = 3600\n",
    "num_samples_to_train = 3600\n",
    "num_samples_to_diff = 1\n",
    "num_samples_to_smooth = 3\n",
    "num_samples_to_lag = 5\n",
    "dimension_anomaly_score_threshold = 0.99\n",
    "n_clusters_per_dimension = 2\n",
    "max_iterations = 1000"
   ]
  },
  {
   "cell_type": "markdown",
   "metadata": {},
   "source": [
    "Next we will use the `get_data()` function from the [netdata-pandas](https://github.com/netdata/netdata-pandas) library to just pull down our raw data from the agent into a Pandas dataframe."
   ]
  },
  {
   "cell_type": "code",
   "execution_count": 4,
   "metadata": {
    "colab": {
     "base_uri": "https://localhost:8080/",
     "height": 660
    },
    "id": "Ypudrfu-fpje",
    "outputId": "b25c7322-03b4-4475-c416-37c3abbe78a4"
   },
   "outputs": [
    {
     "name": "stdout",
     "output_type": "stream",
     "text": [
      "(86400, 1)\n",
      "1689068820 1691660790\n"
     ]
    },
    {
     "data": {
      "text/html": [
       "<div>\n",
       "<style scoped>\n",
       "    .dataframe tbody tr th:only-of-type {\n",
       "        vertical-align: middle;\n",
       "    }\n",
       "\n",
       "    .dataframe tbody tr th {\n",
       "        vertical-align: top;\n",
       "    }\n",
       "\n",
       "    .dataframe thead th {\n",
       "        text-align: right;\n",
       "    }\n",
       "</style>\n",
       "<table border=\"1\" class=\"dataframe\">\n",
       "  <thead>\n",
       "    <tr style=\"text-align: right;\">\n",
       "      <th></th>\n",
       "      <th>net.enp0s31f6|received</th>\n",
       "    </tr>\n",
       "    <tr>\n",
       "      <th>time_idx</th>\n",
       "      <th></th>\n",
       "    </tr>\n",
       "  </thead>\n",
       "  <tbody>\n",
       "    <tr>\n",
       "      <th>1689357630</th>\n",
       "      <td>25.235556</td>\n",
       "    </tr>\n",
       "    <tr>\n",
       "      <th>1689357660</th>\n",
       "      <td>25.235556</td>\n",
       "    </tr>\n",
       "    <tr>\n",
       "      <th>1689357690</th>\n",
       "      <td>25.235556</td>\n",
       "    </tr>\n",
       "    <tr>\n",
       "      <th>1689357720</th>\n",
       "      <td>25.235556</td>\n",
       "    </tr>\n",
       "    <tr>\n",
       "      <th>1689357750</th>\n",
       "      <td>25.235556</td>\n",
       "    </tr>\n",
       "  </tbody>\n",
       "</table>\n",
       "</div>"
      ],
      "text/plain": [
       "            net.enp0s31f6|received\n",
       "time_idx                          \n",
       "1689357630               25.235556\n",
       "1689357660               25.235556\n",
       "1689357690               25.235556\n",
       "1689357720               25.235556\n",
       "1689357750               25.235556"
      ]
     },
     "metadata": {},
     "output_type": "display_data"
    },
    {
     "data": {
      "image/png": "[encoded data removed]",
      "text/plain": [
       "<Figure size 800x600 with 1 Axes>"
      ]
     },
     "metadata": {},
     "output_type": "display_data"
    }
   ],
   "source": [
    "# get raw data\n",
    "df = get_data(hosts=hosts, charts=charts, after=after, before=before)\n",
    "#df.to_csv('dataset_raw_mem_device-v4.csv')\n",
    "#df.to_csv('dataset_raw_cpu_device-v4.csv')\n",
    "df.to_csv('dataset_raw_net_rec_device-v4.csv')\n",
    "# filter df for just the dims if set\n",
    "if len(dims):\n",
    "    df = df[[dim for dim in dims]]\n",
    "\n",
    "# set some variables based on our data\n",
    "df_timestamp_min = df.index.min()\n",
    "df_timestamp_max = df.index.max()\n",
    "\n",
    "# print some info\n",
    "print(df.shape)\n",
    "print(df_timestamp_min, df_timestamp_max)\n",
    "#display(df.head())\n",
    "\n",
    "# lets just plot each dimension to have a look at it\n",
    "for col in df.columns:\n",
    "    #plt.subplot().tick_params(labelsize=25)\n",
    "    # plot dimension, setting index to datetime so its more readable on the plot\n",
    "     df[[col]].set_index(pd.to_datetime(df.index, unit='s')).plot(title=f'Raw Data - {col}', figsize=(8,6), fontsize=20)\n",
    "    \n",
    "# Reset index after drop\n",
    "df=df.dropna() #.reset_index(drop=False)\n",
    "\n",
    "#df.to_csv('dataset_mem_device-v4.csv')\n",
    "#df.to_csv('dataset_cpu_device-v4.csv')\n",
    "df.to_csv('dataset_net_rec_device-v4.csv')\n",
    "display(df.head())"
   ]
  },
  {
   "cell_type": "markdown",
   "metadata": {},
   "source": [
    "### Inputs & Parameters"
   ]
  },
  {
   "cell_type": "markdown",
   "metadata": {},
   "source": [
    "### 1. Get raw data<a id=\"get-raw-data\"></a>"
   ]
  },
  {
   "cell_type": "markdown",
   "metadata": {},
   "source": [
    "In the plot below the \"anomalous\" or \"strange looking\" along with the normal monitoring data is shown. \n",
    "\n",
    "Our goal now is to create some sort of [anomaly score](https://github.com/netdata/netdata/blob/master/ml/README.md#anomaly-score) that can easily capture this."
   ]
  },
  {
   "cell_type": "code",
   "execution_count": 5,
   "metadata": {
    "scrolled": true
   },
   "outputs": [
    {
     "data": {
      "image/png": "[encoded data removed]",
      "text/plain": [
       "<Figure size 1300x600 with 1 Axes>"
      ]
     },
     "metadata": {},
     "output_type": "display_data"
    }
   ],
   "source": [
    "# let's just plot each dimension now that we have added some anomalous data\n",
    "for col in df.columns:\n",
    "    #ax1 = plt.subplot()\n",
    "    #ax1.tick_params(labelsize=25)\n",
    "    ax = df.set_index(pd.to_datetime(df.index, unit='s')).plot( figsize=(13,6), fontsize=15)\n",
    "    #add_shading_to_plot(ax, df_timestamp_max - n_tail_anomalous, df_timestamp_max, 'anomalous data')\n"
   ]
  },
  {
   "cell_type": "markdown",
   "metadata": {},
   "source": [
    "### 2. Lets do some ML!<a id=\"lets-do-some-ml\"></a>"
   ]
  },
  {
   "cell_type": "markdown",
   "metadata": {},
   "source": [
    "\n",
    "\n",
    "In this notebook we will just use good old [kmeans](https://scikit-learn.org/stable/modules/generated/sklearn.cluster.KMeans.html) from [scikit-learn](https://scikit-learn.org/stable/index.html). \n",
    "\n",
    "In reality the Netdata Agent uses the awesome [dlib](https://github.com/davisking/dlib) c++ library and the [`find_clusters_using_kmeans`](http://dlib.net/ml.html#find_clusters_using_kmeans) function along with a few others. You can see the Netdata KMeans code [here](https://github.com/netdata/netdata/blob/master/ml/kmeans/KMeans.cc).\n",
    "\n",
    "The code below:\n",
    "\n",
    "1. Will initialize some empty objects to use during model training and inference.\n",
    "2. Will loop over every observation and run training and inference in a similar way to how the Agent would process each observation."
   ]
  },
  {
   "cell_type": "code",
   "execution_count": 6,
   "metadata": {
    "id": "W6UL8U04ppmM"
   },
   "outputs": [],
   "source": [
    "# initialize an empty kmeans model for each dimension\n",
    "models = {\n",
    "    dim: {\n",
    "        'model' : KMeans(n_clusters=n_clusters_per_dimension, max_iter=max_iterations),\n",
    "        'fitted': False\n",
    "    } for dim in df.columns\n",
    "}\n",
    "\n",
    "# initialize dictionary for storing anomaly scores for each dim\n",
    "anomaly_scores = {\n",
    "    dim: {\n",
    "        't' : [],\n",
    "        'anomaly_score': []\n",
    "    } for dim in df.columns\n",
    "}\n",
    "\n",
    "# initialize dictionary for storing anomaly bits for each dim\n",
    "anomaly_bits = {\n",
    "    dim: {\n",
    "        't' : [],\n",
    "        'anomaly_bit': []\n",
    "    }\n",
    "    for dim in df.columns\n",
    "}"
   ]
  },
  {
   "cell_type": "markdown",
   "metadata": {},
   "source": [
    "Now we are ready to just loop over each row of data and produce anomaly scores once we have some trained models and train or retrain periodically as defined by `train_every`. \n",
    "\n",
    "**Note**: The Netdata Agent implementation spreads out the training across each `train_every` window as opposed to trying to train all models in one go like the below implementation. It also avoids some obvious edges cases where there is no need to retrain, for example when the data have not changed at all since last model was trained."
   ]
  },
  {
   "cell_type": "code",
   "execution_count": 7,
   "metadata": {
    "colab": {
     "base_uri": "https://localhost:8080/"
    },
    "id": "_wxIeEhGiWYv",
    "outputId": "8fdfad43-917d-42d1-8997-a49daac25b3d"
   },
   "outputs": [],
   "source": [
    "# loop over each row of data in dataframe\n",
    "for t, row in df.iterrows():\n",
    "\n",
    "    # get n based on timestamp\n",
    "    n = t - df_timestamp_min\n",
    "\n",
    "    # for each dimension, if we have a fitted model then make predictions\n",
    "    for dim in df.columns:\n",
    "\n",
    "        # if we have a fitted model, get anomaly score\n",
    "        if models[dim]['fitted']:\n",
    "            \n",
    "            #################################\n",
    "            # Inference / Scoring\n",
    "            #################################\n",
    "\n",
    "            # get a buffer of recent data\n",
    "            buffer_size = num_samples_to_diff + num_samples_to_smooth + num_samples_to_lag * 2\n",
    "            df_dim_recent = df[[dim]].loc[(t-buffer_size):t]\n",
    "\n",
    "            # preprocess/featurize recent data\n",
    "            df_dim_recent_preprocessed = preprocess_df(\n",
    "                df_dim_recent,\n",
    "                num_samples_to_lag,\n",
    "                num_samples_to_diff,\n",
    "                num_samples_to_smooth\n",
    "            )\n",
    "\n",
    "            # take most recent feature vector\n",
    "            X = df_dim_recent_preprocessed.tail(1).values\n",
    "            \n",
    "            # get the existing trained cluster centers\n",
    "            cluster_centers = models[dim]['model'].cluster_centers_\n",
    "\n",
    "            # get anomaly score based on the sum of the euclidean distances between the \n",
    "            # feature vector and each cluster centroid\n",
    "            raw_anomaly_score = np.sum(cdist(X, cluster_centers, metric='euclidean'), axis=1)\n",
    "\n",
    "            # normalize anomaly score based on min-max normalization\n",
    "            # https://en.wikipedia.org/wiki/Feature_scaling#Rescaling_(min-max_normalization)\n",
    "            # the idea here is to convert the raw_anomaly_score we just computed into a number on a\n",
    "            # [0, 1] scale such that it behaves more like a percentage. We use the min and max raw scores\n",
    "            # observed during training to achieve this. This would mean that a normalized score of 1 would\n",
    "            # correspond to a distance as big as the biggest distance (most anomalous) observed on the \n",
    "            # training data. So scores that are 99% or higher will tend to be as strange or more strange\n",
    "            # as the most strange 1% observed during training.\n",
    "            \n",
    "            # normalize based on scores observed during training the model\n",
    "            train_raw_anomaly_score_min = models[dim]['train_raw_anomaly_score_min']\n",
    "            #print(\"train_raw_anomaly_score_min\", \" \", train_raw_anomaly_score_min)\n",
    "            train_raw_anomaly_score_max = models[dim]['train_raw_anomaly_score_max']\n",
    "            #print(\"train_raw_anomaly_score_max\", \" \", train_raw_anomaly_score_max)\n",
    "            train_raw_anomaly_score_range = train_raw_anomaly_score_max - train_raw_anomaly_score_min\n",
    "            \n",
    "            # normalize\n",
    "            anomaly_score = (raw_anomaly_score - train_raw_anomaly_score_min) / train_raw_anomaly_score_range\n",
    "            \n",
    "            # The Netdata Agent does not actually store the normalized_anomaly_score since doing so would require more storage\n",
    "            # space for each metric, essentially doubling the amount of metrics that need to be stored. Instead, the Netdata Agent\n",
    "            # makes use of an existing bit (the anomaly bit) in the internal storage representation used by netdata. So if the \n",
    "            # normalized_anomaly_score passed the dimension_anomaly_score_threshold netdata will flip the corresponding anomaly_bit\n",
    "            # from 0 to 1 to signify that the observation the scored feature vector is considered \"anomalous\". \n",
    "            # All without any extra storage overhead required for the Netdata Agent database! Yes it's almost magic :)\n",
    "\n",
    "            # get anomaly bit\n",
    "            anomaly_bit = 100 if anomaly_score >= dimension_anomaly_score_threshold else 0\n",
    "            \n",
    "            # save anomaly score\n",
    "            anomaly_scores[dim]['t'].append(t)\n",
    "            anomaly_scores[dim]['anomaly_score'].append(anomaly_score)\n",
    "\n",
    "            # save anomaly bit\n",
    "            anomaly_bits[dim]['t'].append(t)\n",
    "            anomaly_bits[dim]['anomaly_bit'].append(anomaly_bit)\n",
    "    \n",
    "    # check if the model needs (re)training\n",
    "    if (n >= num_samples_to_train) & (n % train_every == 0):\n",
    "        \n",
    "        #################################\n",
    "        # Train / Re-Train\n",
    "        #################################\n",
    "\n",
    "        train_before = t - num_samples_to_train\n",
    "        train_after = t\n",
    "        #print(f'train at t={t}, (n={n}, train_after={train_after}, train_before={train_before})')\n",
    "\n",
    "        # loop over each dimension/model\n",
    "        for dim in df.columns:\n",
    "            \n",
    "            # get training data based on most recent num_samples_to_train\n",
    "            df_dim_train = df[[dim]].loc[(t-num_samples_to_train):t]\n",
    "            \n",
    "            # preprocess/featurize training data\n",
    "            df_dim_train_preprocessed = preprocess_df(\n",
    "                df_dim_train,\n",
    "                num_samples_to_lag,\n",
    "                num_samples_to_diff,\n",
    "                num_samples_to_smooth\n",
    "            )\n",
    "\n",
    "            # fit model using the fit method of kmeans\n",
    "            models[dim]['model'].fit(df_dim_train_preprocessed.values) \n",
    "            models[dim]['fitted'] = True # mark model as fitted\n",
    "            \n",
    "            # get cluster centers of model we just trained\n",
    "            cluster_centers = models[dim]['model'].cluster_centers_\n",
    "\n",
    "            # get training scores, needed to get min and max scores for normalization at inference time\n",
    "            train_raw_anomaly_scores = np.sum(cdist(df_dim_train_preprocessed.values, cluster_centers, metric='euclidean'), axis=1)\n",
    "            # save min and max anomaly score during training, used to normalize all scores to be 0,1 scale\n",
    "            models[dim]['train_raw_anomaly_score_min'] = min(train_raw_anomaly_scores)\n",
    "            models[dim]['train_raw_anomaly_score_max'] = max(train_raw_anomaly_scores)"
   ]
  },
  {
   "cell_type": "markdown",
   "metadata": {},
   "source": [
    "The hard work is now all done. The above cell has processed all the data, trained or retrained models as defined by the initial config, and saved all anomaly scores and anomaly bits.\n",
    "\n",
    "The rest of the notebook will try to help make more sense of all this."
   ]
  },
  {
   "cell_type": "code",
   "execution_count": 8,
   "metadata": {
    "id": "0iN0PCPGiWBx"
   },
   "outputs": [
    {
     "data": {
      "text/html": [
       "<div>\n",
       "<style scoped>\n",
       "    .dataframe tbody tr th:only-of-type {\n",
       "        vertical-align: middle;\n",
       "    }\n",
       "\n",
       "    .dataframe tbody tr th {\n",
       "        vertical-align: top;\n",
       "    }\n",
       "\n",
       "    .dataframe thead th {\n",
       "        text-align: right;\n",
       "    }\n",
       "</style>\n",
       "<table border=\"1\" class=\"dataframe\">\n",
       "  <thead>\n",
       "    <tr style=\"text-align: right;\">\n",
       "      <th></th>\n",
       "      <th>net.enp0s31f6|received</th>\n",
       "      <th>net.enp0s31f6|received__anomaly_score</th>\n",
       "      <th>net.enp0s31f6|received__anomaly_bit</th>\n",
       "    </tr>\n",
       "    <tr>\n",
       "      <th>time_idx</th>\n",
       "      <th></th>\n",
       "      <th></th>\n",
       "      <th></th>\n",
       "    </tr>\n",
       "  </thead>\n",
       "  <tbody>\n",
       "    <tr>\n",
       "      <th>1691592750</th>\n",
       "      <td>95.754786</td>\n",
       "      <td>[]</td>\n",
       "      <td>0.0</td>\n",
       "    </tr>\n",
       "    <tr>\n",
       "      <th>1691606190</th>\n",
       "      <td>17.328825</td>\n",
       "      <td>[]</td>\n",
       "      <td>0.0</td>\n",
       "    </tr>\n",
       "    <tr>\n",
       "      <th>1691587590</th>\n",
       "      <td>77.498706</td>\n",
       "      <td>[]</td>\n",
       "      <td>0.0</td>\n",
       "    </tr>\n",
       "    <tr>\n",
       "      <th>1691620620</th>\n",
       "      <td>37.730429</td>\n",
       "      <td>[]</td>\n",
       "      <td>0.0</td>\n",
       "    </tr>\n",
       "    <tr>\n",
       "      <th>1691562270</th>\n",
       "      <td>30.627554</td>\n",
       "      <td>[]</td>\n",
       "      <td>0.0</td>\n",
       "    </tr>\n",
       "  </tbody>\n",
       "</table>\n",
       "</div>"
      ],
      "text/plain": [
       "            net.enp0s31f6|received net.enp0s31f6|received__anomaly_score  \\\n",
       "time_idx                                                                   \n",
       "1691592750               95.754786                                    []   \n",
       "1691606190               17.328825                                    []   \n",
       "1691587590               77.498706                                    []   \n",
       "1691620620               37.730429                                    []   \n",
       "1691562270               30.627554                                    []   \n",
       "\n",
       "            net.enp0s31f6|received__anomaly_bit  \n",
       "time_idx                                         \n",
       "1691592750                                  0.0  \n",
       "1691606190                                  0.0  \n",
       "1691587590                                  0.0  \n",
       "1691620620                                  0.0  \n",
       "1691562270                                  0.0  "
      ]
     },
     "metadata": {},
     "output_type": "display_data"
    }
   ],
   "source": [
    "# create dataframe of anomaly scores\n",
    "df_anomaly_scores = pd.DataFrame()\n",
    "for dim in anomaly_scores:\n",
    "    df_anomaly_scores_dim = pd.DataFrame(data=zip(anomaly_scores[dim]['t'],anomaly_scores[dim]['anomaly_score']),columns=['time_idx',f'{dim}__anomaly_score']).set_index('time_idx')\n",
    "    df_anomaly_scores = df_anomaly_scores.join(df_anomaly_scores_dim, how='outer')\n",
    "\n",
    "# create dataframe of anomaly bits\n",
    "df_anomaly_bits = pd.DataFrame()\n",
    "for dim in anomaly_bits:\n",
    "    df_anomaly_bits_dim = pd.DataFrame(data=zip(anomaly_bits[dim]['t'],anomaly_bits[dim]['anomaly_bit']),columns=['time_idx',f'{dim}__anomaly_bit']).set_index('time_idx')\n",
    "    df_anomaly_bits = df_anomaly_bits.join(df_anomaly_bits_dim, how='outer')\n",
    "\n",
    "# join anomaly scores to raw df\n",
    "df_final = df.join(df_anomaly_scores, how='outer')\n",
    "\n",
    "# join anomaly bits to raw df\n",
    "df_final = df_final.join(df_anomaly_bits, how='outer')\n",
    "\n",
    "# let's look at a sample of some scored observations\n",
    "display(df_final.tail(num_samples_to_train).sample(5))"
   ]
  },
  {
   "cell_type": "markdown",
   "metadata": {},
   "source": [
    "### 3. Lets visualize all this!<a id=\"lets-visualize-all-this\"></a>"
   ]
  },
  {
   "cell_type": "markdown",
   "metadata": {},
   "source": [
    "Now that we have our raw data, our anomaly scores, and our anomaly bits - we can plot this all side by side to get a clear picture of how it all works together.\n",
    "\n",
    "In the plots below we see that during the light yellow \"anomalous\" period the \"[anomaly scores](https://github.com/netdata/netdata/blob/master/ml/README.md#anomaly-score)\" get elevated to such an extend that many \"[anomaly bits](https://github.com/netdata/netdata/blob/master/ml/README.md#anomaly-bit)\" start flipping from 0 to 1 and essentially \"turning on\" to signal potentially anomalous data."
   ]
  },
  {
   "cell_type": "markdown",
   "metadata": {},
   "source": [
    "The last concept to introduce now is the \"[anomaly rate](https://github.com/netdata/netdata/blob/master/ml/README.md#anomaly-rate)\" which is really just an average over \"anomaly bits\".\n",
    "\n",
    "For example, in the next cell we will just average all the anomaly bits across the light yellow window of time to find the anomaly rate for the metric within this window. "
   ]
  },
  {
   "cell_type": "markdown",
   "metadata": {},
   "source": [
    "In the dataframe above we see that each observation now also has a column with the `__anomaly_score` and one with the `__anomaly_bit`."
   ]
  },
  {
   "cell_type": "markdown",
   "metadata": {},
   "source": [
    "### 4. So, how does it _actually_ work?<a id=\"so-how-does-it-actually-work\"></a>"
   ]
  },
  {
   "cell_type": "markdown",
   "metadata": {},
   "source": [
    "In this final section of the notebook below we will dig in to try understand this a bit more intuitively.\n",
    "\n",
    "First we will \"[featureize](https://brilliant.org/wiki/feature-vector/)\" or \"preprocess\" all the data. Then we will explore what these feature vectors actually are, how they look, and how we derive anomaly scores based on their distance to the models cluster centroids."
   ]
  },
  {
   "cell_type": "code",
   "execution_count": 9,
   "metadata": {},
   "outputs": [],
   "source": [
    "# preprocess/featurize all data\n",
    "df_preprocessed = preprocess_df(\n",
    "    df,\n",
    "    num_samples_to_lag,\n",
    "    num_samples_to_diff,\n",
    "    num_samples_to_smooth\n",
    ")"
   ]
  },
  {
   "cell_type": "markdown",
   "metadata": {},
   "source": [
    "Now that we have preprocessed all of our data, lets just take a look at it.\n",
    "\n",
    "You will see that we have essentially just added `num_samples_to_lag` additional columns to the dataframe, one for each lag. The numbers themselves also are now longer the original raw metric values, instead they have first been differenced (just take difference of latest value with previous value so that we are working with delta's as opposed to original raw metric) and also smoothed (in this case by just averaging the previous `num_samples_to_smooth` previous differenced values).\n",
    "\n",
    "The idea here is to define the representation that the model will work in. In this case the model will decide if a recent observation is anomalous based on it's corresponding feature vector which is a differenced, smoothed, and lagged array or list of recent values."
   ]
  },
  {
   "cell_type": "code",
   "execution_count": 10,
   "metadata": {},
   "outputs": [
    {
     "name": "stdout",
     "output_type": "stream",
     "text": [
      "(76765, 6)\n"
     ]
    },
    {
     "data": {
      "text/html": [
       "<div>\n",
       "<style scoped>\n",
       "    .dataframe tbody tr th:only-of-type {\n",
       "        vertical-align: middle;\n",
       "    }\n",
       "\n",
       "    .dataframe tbody tr th {\n",
       "        vertical-align: top;\n",
       "    }\n",
       "\n",
       "    .dataframe thead th {\n",
       "        text-align: right;\n",
       "    }\n",
       "</style>\n",
       "<table border=\"1\" class=\"dataframe\">\n",
       "  <thead>\n",
       "    <tr style=\"text-align: right;\">\n",
       "      <th></th>\n",
       "      <th>net.enp0s31f6|received_lag0</th>\n",
       "      <th>net.enp0s31f6|received_lag1</th>\n",
       "      <th>net.enp0s31f6|received_lag2</th>\n",
       "      <th>net.enp0s31f6|received_lag3</th>\n",
       "      <th>net.enp0s31f6|received_lag4</th>\n",
       "      <th>net.enp0s31f6|received_lag5</th>\n",
       "    </tr>\n",
       "    <tr>\n",
       "      <th>time_idx</th>\n",
       "      <th></th>\n",
       "      <th></th>\n",
       "      <th></th>\n",
       "      <th></th>\n",
       "      <th></th>\n",
       "      <th></th>\n",
       "    </tr>\n",
       "  </thead>\n",
       "  <tbody>\n",
       "    <tr>\n",
       "      <th>1689817560</th>\n",
       "      <td>0.001153</td>\n",
       "      <td>0.001153</td>\n",
       "      <td>0.001153</td>\n",
       "      <td>0.001153</td>\n",
       "      <td>0.001153</td>\n",
       "      <td>0.001153</td>\n",
       "    </tr>\n",
       "    <tr>\n",
       "      <th>1690959390</th>\n",
       "      <td>0.001589</td>\n",
       "      <td>0.001589</td>\n",
       "      <td>0.001589</td>\n",
       "      <td>0.001589</td>\n",
       "      <td>0.001589</td>\n",
       "      <td>0.001589</td>\n",
       "    </tr>\n",
       "    <tr>\n",
       "      <th>1691503350</th>\n",
       "      <td>5.214393</td>\n",
       "      <td>6.496960</td>\n",
       "      <td>1.373348</td>\n",
       "      <td>1.781824</td>\n",
       "      <td>0.186617</td>\n",
       "      <td>2.414658</td>\n",
       "    </tr>\n",
       "    <tr>\n",
       "      <th>1690432800</th>\n",
       "      <td>0.002894</td>\n",
       "      <td>0.002894</td>\n",
       "      <td>0.002894</td>\n",
       "      <td>0.002894</td>\n",
       "      <td>0.002894</td>\n",
       "      <td>0.002894</td>\n",
       "    </tr>\n",
       "    <tr>\n",
       "      <th>1689786300</th>\n",
       "      <td>0.012516</td>\n",
       "      <td>0.012516</td>\n",
       "      <td>0.012516</td>\n",
       "      <td>0.012516</td>\n",
       "      <td>0.012516</td>\n",
       "      <td>0.012516</td>\n",
       "    </tr>\n",
       "  </tbody>\n",
       "</table>\n",
       "</div>"
      ],
      "text/plain": [
       "            net.enp0s31f6|received_lag0  net.enp0s31f6|received_lag1  \\\n",
       "time_idx                                                               \n",
       "1689817560                     0.001153                     0.001153   \n",
       "1690959390                     0.001589                     0.001589   \n",
       "1691503350                     5.214393                     6.496960   \n",
       "1690432800                     0.002894                     0.002894   \n",
       "1689786300                     0.012516                     0.012516   \n",
       "\n",
       "            net.enp0s31f6|received_lag2  net.enp0s31f6|received_lag3  \\\n",
       "time_idx                                                               \n",
       "1689817560                     0.001153                     0.001153   \n",
       "1690959390                     0.001589                     0.001589   \n",
       "1691503350                     1.373348                     1.781824   \n",
       "1690432800                     0.002894                     0.002894   \n",
       "1689786300                     0.012516                     0.012516   \n",
       "\n",
       "            net.enp0s31f6|received_lag4  net.enp0s31f6|received_lag5  \n",
       "time_idx                                                              \n",
       "1689817560                     0.001153                     0.001153  \n",
       "1690959390                     0.001589                     0.001589  \n",
       "1691503350                     0.186617                     2.414658  \n",
       "1690432800                     0.002894                     0.002894  \n",
       "1689786300                     0.012516                     0.012516  "
      ]
     },
     "execution_count": 10,
     "metadata": {},
     "output_type": "execute_result"
    }
   ],
   "source": [
    "print(df_preprocessed.shape)\n",
    "df_preprocessed.sample(5)"
   ]
  },
  {
   "cell_type": "markdown",
   "metadata": {},
   "source": [
    "The model works based on these feature vectors. A lot of ML is about training a model to define some [\"compressed representation\"](https://en.wikipedia.org/wiki/Data_compression#Machine_learning) of the training data that can then be useful for new data in some way.\n",
    "\n",
    "This is exactly what our cluster models are trying to do. They process a big bag of preprocessed feature vectors, covering `num_samples_to_train` raw observations, during training to come up with the best, synthetic, `n_clusters_per_dimension` feature vectors as a useful compressed representation of the training data.\n",
    "\n",
    "The cell below will just show you what those `n_clusters_per_dimension` (in this case 2) synthetic (made up by the kmeans algo) feature vectors are."
   ]
  },
  {
   "cell_type": "code",
   "execution_count": 11,
   "metadata": {},
   "outputs": [
    {
     "data": {
      "text/html": [
       "<div>\n",
       "<style scoped>\n",
       "    .dataframe tbody tr th:only-of-type {\n",
       "        vertical-align: middle;\n",
       "    }\n",
       "\n",
       "    .dataframe tbody tr th {\n",
       "        vertical-align: top;\n",
       "    }\n",
       "\n",
       "    .dataframe thead th {\n",
       "        text-align: right;\n",
       "    }\n",
       "</style>\n",
       "<table border=\"1\" class=\"dataframe\">\n",
       "  <thead>\n",
       "    <tr style=\"text-align: right;\">\n",
       "      <th></th>\n",
       "      <th>net.enp0s31f6|received_lag0</th>\n",
       "      <th>net.enp0s31f6|received_lag1</th>\n",
       "      <th>net.enp0s31f6|received_lag2</th>\n",
       "      <th>net.enp0s31f6|received_lag3</th>\n",
       "      <th>net.enp0s31f6|received_lag4</th>\n",
       "      <th>net.enp0s31f6|received_lag5</th>\n",
       "    </tr>\n",
       "  </thead>\n",
       "  <tbody>\n",
       "    <tr>\n",
       "      <th>centroid 0</th>\n",
       "      <td>6.742898</td>\n",
       "      <td>2.928633</td>\n",
       "      <td>3.203037</td>\n",
       "      <td>5.652466</td>\n",
       "      <td>3.939005</td>\n",
       "      <td>2.331654</td>\n",
       "    </tr>\n",
       "    <tr>\n",
       "      <th>centroid 1</th>\n",
       "      <td>2.469964</td>\n",
       "      <td>4.120257</td>\n",
       "      <td>3.995573</td>\n",
       "      <td>3.032248</td>\n",
       "      <td>3.834559</td>\n",
       "      <td>4.478260</td>\n",
       "    </tr>\n",
       "  </tbody>\n",
       "</table>\n",
       "</div>"
      ],
      "text/plain": [
       "            net.enp0s31f6|received_lag0  net.enp0s31f6|received_lag1  \\\n",
       "centroid 0                     6.742898                     2.928633   \n",
       "centroid 1                     2.469964                     4.120257   \n",
       "\n",
       "            net.enp0s31f6|received_lag2  net.enp0s31f6|received_lag3  \\\n",
       "centroid 0                     3.203037                     5.652466   \n",
       "centroid 1                     3.995573                     3.032248   \n",
       "\n",
       "            net.enp0s31f6|received_lag4  net.enp0s31f6|received_lag5  \n",
       "centroid 0                     3.939005                     2.331654  \n",
       "centroid 1                     3.834559                     4.478260  "
      ]
     },
     "metadata": {},
     "output_type": "display_data"
    }
   ],
   "source": [
    "# lets pick the first model to look at\n",
    "model = list(models.keys())[0]\n",
    "\n",
    "# get the cluster centroids and put them in a dataframe similar to above\n",
    "df_cluster_centers = pd.DataFrame(models[model]['model'].cluster_centers_, columns=df_preprocessed.columns)\n",
    "df_cluster_centers.index = [f'centroid {i}' for i in df_cluster_centers.index.values]\n",
    "display(df_cluster_centers)"
   ]
  },
  {
   "cell_type": "markdown",
   "metadata": {},
   "source": [
    "At inference time we can now use our `n_clusters_per_dimension` cluster centers as a sort of set of \"reference\" feature vectors we can compare against. \n",
    "\n",
    "When we see a new feature vector that is very far away from these \"reference\" feature vectors, we can take that as a signal that the recent data the feature vector was derived from may look significantly different than most of the data the clusters where initially train on. And as such it may be \"anomalous\" or \"strange\" in some way that might be meaningful to you are a user trying to monitor and troubleshoot systems based on these metrics.\n",
    "\n",
    "To try make this visually clearer we will take 10 random feature vectors from the first half of our data where things were generally normal and we will also take 10 random feature vectors from the yellow anomalous period of time. Lastly we will also include the cluster centroids themselves to see how they compare to both sets of 10 feature vectors. \n",
    "\n",
    "Basically this is represented in the heatmap below where each row is a processed feature vectors corresponding to some timestamp `t`."
   ]
  },
  {
   "cell_type": "code",
   "execution_count": 12,
   "metadata": {
    "pycharm": {
     "name": "#%%\n"
    }
   },
   "outputs": [
    {
     "name": "stdout",
     "output_type": "stream",
     "text": [
      "314.44637938501546\n"
     ]
    }
   ],
   "source": [
    "# prepare heatmap\n",
    "#df_heatmap = pd.concat([df_preprocessed.sample(10),df_preprocessed.tail(n_tail_anomalous).sample(10), df_cluster_centers])\n",
    "df_heatmap = pd.concat([df_preprocessed.sample(10), df_cluster_centers])\n",
    "df_heatmap = df_heatmap.round(2)\n",
    "\n",
    "# get scores\n",
    "heatmap_scores = np.sum(cdist(df_heatmap, models[dim]['model'].cluster_centers_, metric='euclidean'), axis=1)\n",
    "heatmap_bits = [1 if score >= dimension_anomaly_score_threshold else 0 for score in heatmap_scores]\n",
    "\n",
    "# add anomaly score to index\n",
    "heatmap_index_inputs = list(zip(range(1, len(df_heatmap)+1), df_heatmap.index, heatmap_scores, heatmap_bits))\n",
    "df_heatmap.index = [f'{x[0]}. t={x[1]} (AS={round(x[2]*100)}%, AB={x[3]})' for x in heatmap_index_inputs]\n",
    "\n",
    "#df_heatmap.to_csv('dataset_mem_device_anomal-v4.csv')\n",
    "#df_heatmap.to_csv('dataset_cpu_device_anomal-v4.csv')\n",
    "df_heatmap.to_csv('dataset_net_rec_device_anomal-v4.csv')\n",
    "elapsed_time = time.monotonic() - start_time\n",
    "print(elapsed_time)\n",
    "#fig, ax = plt.subplots(figsize=(10,10))\n",
    "#sns.heatmap(df_heatmap, annot=True, ax=ax, cmap='RdYlBu')"
   ]
  },
  {
   "cell_type": "code",
   "execution_count": 13,
   "metadata": {},
   "outputs": [],
   "source": [
    "#line_styles = ['-' for i in range(10)] + ['--' for i in range(10)] + ['o-' for i in range(2)]\n",
    "#df_heatmap.transpose().plot(legend=False, style=line_styles, figsize=(10,5), rot=15)"
   ]
  },
  {
   "cell_type": "markdown",
   "metadata": {},
   "source": [
    "We made it! [here](https://youtube.com/playlist?list=PL6Zhl9mK2r0Ja7SKX72rD4dfBNnaQbbwR) is a playlist of interesting data science and machine learning youtube videos that you might like considering you just read a jupyter notebook about using kmeans to do unsupervised anomaly detection :)"
   ]
  }
 ],
 "metadata": {
  "colab": {
   "collapsed_sections": [],
   "name": "Netdata Anomaly Detection Deepdive.ipynb",
   "provenance": []
  },
  "kernelspec": {
   "display_name": "Python 3",
   "language": "python",
   "name": "python3"
  },
  "language_info": {
   "codemirror_mode": {
    "name": "ipython",
    "version": 3
   },
   "file_extension": ".py",
   "mimetype": "text/x-python",
   "name": "python",
   "nbconvert_exporter": "python",
   "pygments_lexer": "ipython3",
   "version": "3.10.11"
  }
 },
 "nbformat": 4,
 "nbformat_minor": 1
}
