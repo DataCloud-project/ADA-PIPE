{
 "cells": [
  {
   "cell_type": "code",
   "execution_count": 28,
   "metadata": {
    "colab": {
     "base_uri": "https://localhost:8080/"
    },
    "id": "fAhFsxBnGmyK",
    "outputId": "5841ac25-f0cd-410f-c782-1a6e05806261"
   },
   "outputs": [],
   "source": [
    "import pandas as pd\n",
    "import numpy as np\n",
    "import scipy.stats as ss\n",
    "import matplotlib.pyplot as plt\n",
    "\n",
    "from sklearn.ensemble import GradientBoostingRegressor\n",
    "from sklearn.experimental import enable_halving_search_cv\n",
    "from sklearn import model_selection\n",
    "from sklearn.model_selection import GridSearchCV, RepeatedKFold"
   ]
  },
  {
   "cell_type": "code",
   "execution_count": 29,
   "metadata": {},
   "outputs": [],
   "source": [
    "import random\n",
    "random.seed(42)\n",
    "random_seed = 42\n",
    "search_factor = 4\n",
    "search_n_candidates = search_factor ** 3 # candidates = search_factor ** n_rounds\n",
    "search_agg_elimination = True\n",
    "search_cv = 5\n",
    "search_scoring = 'neg_root_mean_squared_error' # 'explained_variance'\n",
    "search_n_jobs = -1\n",
    "search_verbose = 0"
   ]
  },
  {
   "attachments": {},
   "cell_type": "markdown",
   "metadata": {
    "id": "cThWXX5YGmJs"
   },
   "source": [
    "### Data"
   ]
  },
  {
   "cell_type": "code",
   "execution_count": 30,
   "metadata": {},
   "outputs": [
    {
     "name": "stdout",
     "output_type": "stream",
     "text": [
      "1.3539901646090537e-05   15.989687048076078\n",
      "19440\n",
      "0.574042426   173.71871731171544\n",
      "19440\n"
     ]
    }
   ],
   "source": [
    "file = r'dataset-container-cpu-mem-replica.csv'\n",
    "df_unique = pd.read_csv(file)\n",
    "\n",
    "# dataset\n",
    "dataset = df_unique.values\n",
    "\n",
    "X = dataset[:, 2] # cpu column\n",
    "print(np.min(X),\" \",np.max(X))\n",
    "print(len(X))\n",
    "\n",
    "Y = dataset[:, 3] # mem column\n",
    "print(np.min(Y),\" \",np.max(Y))\n",
    "print(len(Y))"
   ]
  },
  {
   "attachments": {},
   "cell_type": "markdown",
   "metadata": {
    "id": "hnwKV7NfK5GK"
   },
   "source": [
    "Reshape + Split"
   ]
  },
  {
   "cell_type": "code",
   "execution_count": 31,
   "metadata": {
    "colab": {
     "base_uri": "https://localhost:8080/"
    },
    "id": "b3C2nUwDMM3V",
    "outputId": "dc880c3d-bcb9-49d7-c48e-096eb194c7eb"
   },
   "outputs": [
    {
     "name": "stdout",
     "output_type": "stream",
     "text": [
      "Train:  (12441, 1)\n",
      "Val:  (3111, 1)\n",
      "Test:  (3888, 1)\n"
     ]
    }
   ],
   "source": [
    "X = X.reshape(-1, 1)\n",
    "Y = Y.reshape(-1, 1)\n",
    "\n",
    "from sklearn.model_selection import train_test_split\n",
    "X_train, X_test, Y_train, Y_test = train_test_split(X, Y, test_size=0.2, random_state=42)\n",
    "X_train, X_val, Y_train, Y_val = train_test_split(X_train, Y_train, test_size=0.2, random_state=42)\n",
    "print(\"Train: \", X_train.shape)\n",
    "print(\"Val: \", X_val.shape)\n",
    "print(\"Test: \", X_test.shape)"
   ]
  },
  {
   "cell_type": "code",
   "execution_count": 32,
   "metadata": {},
   "outputs": [
    {
     "data": {
      "text/plain": [
       "'plt.figure(figsize=(9, 5), dpi=120)\\nplt.scatter(x=X, y=Y, color=\"#59bbf7\", marker=\"o\",alpha=0.5, edgecolors=\"#0991e6\")\\nplt.subplot().tick_params(labelsize=25)\\nplt.ylabel(\\'X\\', fontsize=25)\\nplt.xlabel(\\'Y\\', fontsize=25)\\nplt.show()'"
      ]
     },
     "execution_count": 32,
     "metadata": {},
     "output_type": "execute_result"
    }
   ],
   "source": [
    "'''plt.figure(figsize=(9, 5), dpi=120)\n",
    "plt.scatter(x=X, y=Y, color=\"#59bbf7\", marker=\"o\",alpha=0.5, edgecolors=\"#0991e6\")\n",
    "plt.subplot().tick_params(labelsize=25)\n",
    "plt.ylabel('X', fontsize=25)\n",
    "plt.xlabel('Y', fontsize=25)\n",
    "plt.show()'''"
   ]
  },
  {
   "attachments": {},
   "cell_type": "markdown",
   "metadata": {
    "id": "C5cxJB2dMrfJ"
   },
   "source": [
    "### GBR Model"
   ]
  },
  {
   "cell_type": "code",
   "execution_count": 33,
   "metadata": {},
   "outputs": [
    {
     "data": {
      "text/plain": [
       "'model = GradientBoostingRegressor()\\ngrid = dict()\\ngrid[\\'n_estimators\\'] = [10, 50, 100, 500]\\ngrid[\\'learning_rate\\'] = [0.0001, 0.001, 0.01, 0.1, 0.5, 1.0]\\ngrid[\\'subsample\\'] = [0.5, 0.7, 1.0]\\ngrid[\\'max_depth\\'] = [3, 7, 9]\\n# define the evaluation procedure\\ncv = RepeatedKFold(n_splits=10, n_repeats=3, random_state=1)\\n# define the grid search procedure\\ngrid_search = GridSearchCV(estimator=model, param_grid=grid, n_jobs=-1, cv=cv)\\n# execute the grid search\\ngrid_result = grid_search.fit(X, Y)\\n# summarize the best score and configuration\\nprint(\"Best: %f using %s\" % (grid_result.best_score_, grid_result.best_params_)) # summarize all scores that were evaluated\\nmeans = grid_result.cv_results_[\\'mean_test_score\\']\\nstds = grid_result.cv_results_[\\'std_test_score\\']\\nparams = grid_result.cv_results_[\\'params\\']\\nfor mean, stdev, param in zip(means, stds, params):\\n    print(\"%f (%f) with: %r\" % (mean, stdev, param))'"
      ]
     },
     "execution_count": 33,
     "metadata": {},
     "output_type": "execute_result"
    }
   ],
   "source": [
    "'''model = GradientBoostingRegressor()\n",
    "grid = dict()\n",
    "grid['n_estimators'] = [10, 50, 100, 500]\n",
    "grid['learning_rate'] = [0.0001, 0.001, 0.01, 0.1, 0.5, 1.0]\n",
    "grid['subsample'] = [0.5, 0.7, 1.0]\n",
    "grid['max_depth'] = [3, 7, 9]\n",
    "# define the evaluation procedure\n",
    "cv = RepeatedKFold(n_splits=10, n_repeats=3, random_state=1)\n",
    "# define the grid search procedure\n",
    "grid_search = GridSearchCV(estimator=model, param_grid=grid, n_jobs=-1, cv=cv)\n",
    "# execute the grid search\n",
    "grid_result = grid_search.fit(X, Y)\n",
    "# summarize the best score and configuration\n",
    "print(\"Best: %f using %s\" % (grid_result.best_score_, grid_result.best_params_)) # summarize all scores that were evaluated\n",
    "means = grid_result.cv_results_['mean_test_score']\n",
    "stds = grid_result.cv_results_['std_test_score']\n",
    "params = grid_result.cv_results_['params']\n",
    "for mean, stdev, param in zip(means, stds, params):\n",
    "    print(\"%f (%f) with: %r\" % (mean, stdev, param))'''"
   ]
  },
  {
   "cell_type": "code",
   "execution_count": 34,
   "metadata": {
    "id": "isKS08I2Mwr7"
   },
   "outputs": [
    {
     "data": {
      "text/plain": [
       "'gbr = GradientBoostingRegressor(subsample=0.5,\\n                                learning_rate=0.1,\\n                                n_estimators=100,\\n                                max_depth=9,\\n                                min_samples_split=200,\\n                                min_samples_leaf=40,\\n                                loss=\"absolute_error\")'"
      ]
     },
     "execution_count": 34,
     "metadata": {},
     "output_type": "execute_result"
    }
   ],
   "source": [
    "# model\n",
    "#'learning_rate': 0.1, 'max_depth': 9, 'n_estimators': 100, 'subsample': 0.5\n",
    "gbr = GradientBoostingRegressor(subsample=0.8,\n",
    "                                learning_rate=0.4,\n",
    "                                n_estimators= 15,\n",
    "                                max_depth=40,\n",
    "                                loss=\"absolute_error\")\n",
    "'''gbr = GradientBoostingRegressor(subsample=0.5,\n",
    "                                learning_rate=0.1,\n",
    "                                n_estimators=100,\n",
    "                                max_depth=9,\n",
    "                                min_samples_split=200,\n",
    "                                min_samples_leaf=40,\n",
    "                                loss=\"absolute_error\")'''"
   ]
  },
  {
   "attachments": {},
   "cell_type": "markdown",
   "metadata": {
    "id": "r4fESw98Bxlp"
   },
   "source": [
    "Fit + Predict"
   ]
  },
  {
   "cell_type": "code",
   "execution_count": 35,
   "metadata": {
    "id": "0ZhtSYqwB3hK"
   },
   "outputs": [
    {
     "name": "stderr",
     "output_type": "stream",
     "text": [
      "C:\\Users\\b1108190\\AppData\\Local\\Packages\\PythonSoftwareFoundation.Python.3.9_qbz5n2kfra8p0\\LocalCache\\local-packages\\Python39\\site-packages\\sklearn\\ensemble\\_gb.py:668: DataConversionWarning: A column-vector y was passed when a 1d array was expected. Please change the shape of y to (n_samples, ), for example using ravel().\n",
      "  y = column_or_1d(y, warn=True)  # TODO: Is this still required?\n"
     ]
    }
   ],
   "source": [
    "# fit\n",
    "gbr.fit(X_train, Y_train)\n",
    "\n",
    "# prediction\n",
    "Y_predict_gbr = gbr.predict(X_test)"
   ]
  },
  {
   "attachments": {},
   "cell_type": "markdown",
   "metadata": {
    "id": "wNZu7-UMRWRR"
   },
   "source": [
    "Errors"
   ]
  },
  {
   "cell_type": "code",
   "execution_count": 36,
   "metadata": {
    "colab": {
     "base_uri": "https://localhost:8080/"
    },
    "id": "u388S902RXGZ",
    "outputId": "d739e377-7551-4351-e5d8-d1a8ca89ccf4"
   },
   "outputs": [
    {
     "name": "stdout",
     "output_type": "stream",
     "text": [
      "MAPE : 0.026454907668404897\n",
      "MAE : 0.25375826853643074\n",
      "MSE : 3.961889885456365\n",
      "RMSE: 1.9904496691592994\n"
     ]
    }
   ],
   "source": [
    "from sklearn.metrics import mean_absolute_error, mean_absolute_percentage_error, mean_squared_error\n",
    "mae = mean_absolute_error(Y_test, Y_predict_gbr)\n",
    "mape = mean_absolute_percentage_error(Y_test, Y_predict_gbr)\n",
    "mse = mean_squared_error(Y_test, Y_predict_gbr)\n",
    "rmse_test = mse ** 0.5\n",
    "#mape = mean_absolute_percentage_error(Y_val, Y_predict_gbr)\n",
    "#mae = mean_absolute_error(Y_val, Y_predict_gbr)\n",
    "#mse = mean_squared_error(Y_val, Y_predict_gbr)\n",
    "print(f\"MAPE : {mape}\")\n",
    "print(f\"MAE : {mae}\")\n",
    "print(f\"MSE : {mse}\")\n",
    "print(f\"RMSE: {rmse_test}\")"
   ]
  },
  {
   "attachments": {},
   "cell_type": "markdown",
   "metadata": {
    "id": "8NoR6_iEIQJY"
   },
   "source": [
    "Loss Curve"
   ]
  },
  {
   "cell_type": "code",
   "execution_count": 37,
   "metadata": {
    "colab": {
     "base_uri": "https://localhost:8080/",
     "height": 624
    },
    "id": "XzhXjHGFISW3",
    "outputId": "1b3e3c20-3a6e-4588-ca3b-4b60a9dadf8f"
   },
   "outputs": [
    {
     "data": {
      "image/png": "[encoded data removed]",
      "text/plain": [
       "<Figure size 1170x650 with 1 Axes>"
      ]
     },
     "metadata": {},
     "output_type": "display_data"
    }
   ],
   "source": [
    "import matplotlib.pyplot as plt\n",
    "mae = []\n",
    "for Y_pred_gbr in gbr.staged_predict(X_test):\n",
    "    mae.append(mean_absolute_error(Y_test, Y_pred_gbr))\n",
    "\n",
    "fig, ax = plt.subplots(figsize=(9, 5), dpi=130)\n",
    "plt.subplot().tick_params(labelsize=30)\n",
    "ax.plot(np.arange(1, gbr.n_estimators + 1), mae, color='lightpink', linewidth=7)\n",
    "ax.set_xlabel('Number of estimators', fontsize=30)\n",
    "ax.set_ylabel('MAE', fontsize=30)\n",
    "ax.grid(True, alpha=0.5)\n",
    "#plt.show()\n",
    "plt.savefig(\"gbr_validation.pdf\", format=\"pdf\", bbox_inches=\"tight\")"
   ]
  },
  {
   "attachments": {},
   "cell_type": "markdown",
   "metadata": {
    "id": "RYYj1mV0Tvc_"
   },
   "source": [
    "Replica"
   ]
  },
  {
   "cell_type": "code",
   "execution_count": 38,
   "metadata": {},
   "outputs": [],
   "source": [
    "replica_actual = []\n",
    "for i in range(len(X_test)):\n",
    "    replica_actual.append(np.ceil((dataset[len(X_train)+i, 4] * X_test[i])/Y_test[i]))\n",
    "    #replica_actual.append(dataset[len(X_train)+i,4])\n",
    "    #replica_actual.append((Y_test[i]))\n",
    "\n",
    "replica_gbr = []\n",
    "for i in range(len(X_test)):\n",
    "    replica_gbr.append(np.ceil((dataset[len(X_train)+i, 4] * X_test[i])/Y_predict_gbr[i]))\n",
    "    #replica_actual.append((Y_predict_gbr[i]))"
   ]
  },
  {
   "cell_type": "code",
   "execution_count": 39,
   "metadata": {},
   "outputs": [
    {
     "data": {
      "text/plain": [
       "'from scipy.interpolate import pchip\\n\\nplt.figure(figsize=(9, 5), dpi=120)\\nplt.subplot().tick_params(labelsize=20)\\nN = X_test.shape[0] #94004\\nX_ = np.linspace(np.arange(N).min(), np.arange(N).max(), 200) #/1000\\n\\nX_Y_Spline = pchip(np.arange(N), np.array(np.ceil(replica_actual)))\\nY_ = X_Y_Spline(X_)\\nplt.plot(X_,Y_, label=\\'Without prediction\\', color=\"red\", linestyle=\\'dashed\\')\\n\\nX_Y_Spline = pchip(np.arange(N), np.array(np.ceil(replica_gbr)))\\nY_ = X_Y_Spline(X_)\\nplt.plot(X_,Y_,  label=\\'GBR prediction\\', color=\"lightgreen\", linestyle=\\'dashed\\')\\n\\nplt.ylabel(\\'Number of replicas\\', fontsize=20)\\nplt.xlabel(\\'Microservice #id\\', fontsize=20)\\nplt.legend(loc=\\'upper center\\',bbox_to_anchor=(0.5, -0.2),fancybox=False, shadow=False, ncol=3, fontsize=20 ) #bbox_to_anchor =(1,1), ncol=1)\\n#plt.show()\\nplt.savefig(\"NumberOfReplicas.pdf\", format=\"pdf\", bbox_inches=\"tight\")'"
      ]
     },
     "execution_count": 39,
     "metadata": {},
     "output_type": "execute_result"
    }
   ],
   "source": [
    "'''from scipy.interpolate import pchip\n",
    "\n",
    "plt.figure(figsize=(9, 5), dpi=120)\n",
    "plt.subplot().tick_params(labelsize=20)\n",
    "N = X_test.shape[0] #94004\n",
    "X_ = np.linspace(np.arange(N).min(), np.arange(N).max(), 200) #/1000\n",
    "\n",
    "X_Y_Spline = pchip(np.arange(N), np.array(np.ceil(replica_actual)))\n",
    "Y_ = X_Y_Spline(X_)\n",
    "plt.plot(X_,Y_, label='Without prediction', color=\"red\", linestyle='dashed')\n",
    "\n",
    "X_Y_Spline = pchip(np.arange(N), np.array(np.ceil(replica_gbr)))\n",
    "Y_ = X_Y_Spline(X_)\n",
    "plt.plot(X_,Y_,  label='GBR prediction', color=\"lightgreen\", linestyle='dashed')\n",
    "\n",
    "plt.ylabel('Number of replicas', fontsize=20)\n",
    "plt.xlabel('Microservice #id', fontsize=20)\n",
    "plt.legend(loc='upper center',bbox_to_anchor=(0.5, -0.2),fancybox=False, shadow=False, ncol=3, fontsize=20 ) #bbox_to_anchor =(1,1), ncol=1)\n",
    "#plt.show()\n",
    "plt.savefig(\"NumberOfReplicas.pdf\", format=\"pdf\", bbox_inches=\"tight\")'''"
   ]
  },
  {
   "cell_type": "code",
   "execution_count": 40,
   "metadata": {},
   "outputs": [
    {
     "name": "stdout",
     "output_type": "stream",
     "text": [
      "\n",
      "MAPE :  0.0018\n",
      "MAE :  0.0383\n",
      "MSE :  0.0383\n",
      "RMSE :  0.1958\n",
      "Actual number of replicas (min.):  1\n",
      "Predicted number of replicas (min.):  1\n",
      "Actual number of replicas (avg.):  4.0\n",
      "Predicted number of replicas (avg.):  4.0\n",
      "Actual number of replicas (max.):  42\n",
      "Predicted number of replicas (max.):  42\n"
     ]
    }
   ],
   "source": [
    "from sklearn.metrics import mean_absolute_error, mean_absolute_percentage_error, mean_squared_error\n",
    "print()\n",
    "print(\"MAPE : \", np.round(mean_absolute_percentage_error(np.array(replica_actual), np.array(replica_gbr)),4))\n",
    "\n",
    "print(\"MAE : \", np.round(mean_absolute_error(np.array(replica_actual), np.array(replica_gbr)),4))\n",
    "\n",
    "print(\"MSE : \", np.round(mean_squared_error(np.array(replica_actual), np.array(replica_gbr)),4))\n",
    "\n",
    "print(\"RMSE : \", np.round(mean_squared_error(np.array(replica_actual), np.array(replica_gbr))**0.5,4))\n",
    "\n",
    "print(\"Actual number of replicas (min.): \",np.round(np.min(np.array(replica_actual)),0))\n",
    "print(\"Predicted number of replicas (min.): \",np.round(np.min(np.array(replica_gbr)),0))\n",
    "\n",
    "print(\"Actual number of replicas (avg.): \",np.round(np.average(np.array(replica_actual)),0))\n",
    "print(\"Predicted number of replicas (avg.): \",np.round(np.average(np.array(replica_gbr)),0))\n",
    "\n",
    "print(\"Actual number of replicas (max.): \",np.round(np.max(np.array(replica_actual)),0))\n",
    "print(\"Predicted number of replicas (max.): \",np.round(np.max(np.array(replica_gbr)),0))"
   ]
  },
  {
   "cell_type": "code",
   "execution_count": 41,
   "metadata": {},
   "outputs": [],
   "source": [
    "from sklearn.svm import SVR\n",
    "from sklearn.ensemble import BaggingRegressor"
   ]
  },
  {
   "cell_type": "code",
   "execution_count": 42,
   "metadata": {},
   "outputs": [
    {
     "data": {
      "text/plain": [
       "'# define the evaluation procedure\\ncv = RepeatedKFold(n_splits=10, n_repeats=3, random_state=1)\\n# define the grid search procedure\\ngrid_search = GridSearchCV(estimator=model, param_grid=grid, n_jobs=-1, cv=cv)\\n# execute the grid search\\ngrid_result = grid_search.fit(X, Y)\\n# summarize the best score and configuration\\nprint(\"Best: %f using %s\" % (grid_result.best_score_, grid_result.best_params_)) # summarize all scores that were evaluated\\nmeans = grid_result.cv_results_[\\'mean_test_score\\']\\nstds = grid_result.cv_results_[\\'std_test_score\\']\\nparams = grid_result.cv_results_[\\'params\\']\\nfor mean, stdev, param in zip(means, stds, params):\\n    print(\"%f (%f) with: %r\" % (mean, stdev, param))'"
      ]
     },
     "execution_count": 42,
     "metadata": {},
     "output_type": "execute_result"
    }
   ],
   "source": [
    "#model = BaggingRegressor(estimator=SVR())\n",
    "grid = dict()\n",
    "grid['n_estimators'] = [10, 50, 100]\n",
    "grid['max_samples'] = [0.5, 0.7, 1.0]\n",
    "'''# define the evaluation procedure\n",
    "cv = RepeatedKFold(n_splits=10, n_repeats=3, random_state=1)\n",
    "# define the grid search procedure\n",
    "grid_search = GridSearchCV(estimator=model, param_grid=grid, n_jobs=-1, cv=cv)\n",
    "# execute the grid search\n",
    "grid_result = grid_search.fit(X, Y)\n",
    "# summarize the best score and configuration\n",
    "print(\"Best: %f using %s\" % (grid_result.best_score_, grid_result.best_params_)) # summarize all scores that were evaluated\n",
    "means = grid_result.cv_results_['mean_test_score']\n",
    "stds = grid_result.cv_results_['std_test_score']\n",
    "params = grid_result.cv_results_['params']\n",
    "for mean, stdev, param in zip(means, stds, params):\n",
    "    print(\"%f (%f) with: %r\" % (mean, stdev, param))'''"
   ]
  },
  {
   "cell_type": "code",
   "execution_count": 43,
   "metadata": {},
   "outputs": [
    {
     "name": "stderr",
     "output_type": "stream",
     "text": [
      "C:\\Users\\b1108190\\AppData\\Local\\Packages\\PythonSoftwareFoundation.Python.3.9_qbz5n2kfra8p0\\LocalCache\\local-packages\\Python39\\site-packages\\sklearn\\ensemble\\_bagging.py:581: DataConversionWarning: A column-vector y was passed when a 1d array was expected. Please change the shape of y to (n_samples, ), for example using ravel().\n",
      "  return column_or_1d(y, warn=True)\n"
     ]
    }
   ],
   "source": [
    "brr = BaggingRegressor(max_samples=5, n_estimators=100, n_jobs=-1, random_state=42).fit(X_train, Y_train)\n",
    "Y_predict_brr = brr.predict(X_test)"
   ]
  },
  {
   "cell_type": "code",
   "execution_count": 44,
   "metadata": {},
   "outputs": [
    {
     "name": "stdout",
     "output_type": "stream",
     "text": [
      "MAPE : 5.173811026023873\n",
      "MAE : 12.602638374512408\n",
      "MSE : 316.55820731977064\n",
      "RMSE: 17.792082714504524\n"
     ]
    }
   ],
   "source": [
    "mae = mean_absolute_error(Y_test, Y_predict_brr)\n",
    "mape = mean_absolute_percentage_error(Y_test, Y_predict_brr)\n",
    "mse = mean_squared_error(Y_test, Y_predict_brr)\n",
    "rmse_test = mse ** 0.5\n",
    "#mape = mean_absolute_percentage_error(Y_val, Y_predict_brr)\n",
    "#mae = mean_absolute_error(Y_val, Y_predict_brr)\n",
    "#mse = mean_squared_error(Y_val, Y_predict_brr)\n",
    "print(f\"MAPE : {mape}\")\n",
    "print(f\"MAE : {mae}\")\n",
    "print(f\"MSE : {mse}\")\n",
    "print(f\"RMSE: {rmse_test}\")"
   ]
  },
  {
   "cell_type": "code",
   "execution_count": 45,
   "metadata": {},
   "outputs": [
    {
     "name": "stderr",
     "output_type": "stream",
     "text": [
      "C:\\Users\\b1108190\\AppData\\Local\\Packages\\PythonSoftwareFoundation.Python.3.9_qbz5n2kfra8p0\\LocalCache\\local-packages\\Python39\\site-packages\\sklearn\\ensemble\\_bagging.py:581: DataConversionWarning: A column-vector y was passed when a 1d array was expected. Please change the shape of y to (n_samples, ), for example using ravel().\n",
      "  return column_or_1d(y, warn=True)\n",
      "C:\\Users\\b1108190\\AppData\\Local\\Packages\\PythonSoftwareFoundation.Python.3.9_qbz5n2kfra8p0\\LocalCache\\local-packages\\Python39\\site-packages\\sklearn\\ensemble\\_bagging.py:581: DataConversionWarning: A column-vector y was passed when a 1d array was expected. Please change the shape of y to (n_samples, ), for example using ravel().\n",
      "  return column_or_1d(y, warn=True)\n",
      "C:\\Users\\b1108190\\AppData\\Local\\Packages\\PythonSoftwareFoundation.Python.3.9_qbz5n2kfra8p0\\LocalCache\\local-packages\\Python39\\site-packages\\sklearn\\ensemble\\_bagging.py:581: DataConversionWarning: A column-vector y was passed when a 1d array was expected. Please change the shape of y to (n_samples, ), for example using ravel().\n",
      "  return column_or_1d(y, warn=True)\n"
     ]
    },
    {
     "data": {
      "image/png": "[encoded data removed]",
      "text/plain": [
       "<Figure size 1170x650 with 1 Axes>"
      ]
     },
     "metadata": {},
     "output_type": "display_data"
    }
   ],
   "source": [
    "mae = []\n",
    "#for Y_predict_brr in brr.staged_predict(X_test):\n",
    "    #mae.append(mean_absolute_error(Y_test, Y_predict_brr))\n",
    "for n_estimators in grid['n_estimators']:\n",
    "    brr = BaggingRegressor(max_samples=5, n_estimators=n_estimators, n_jobs=-1, random_state=42).fit(X_train, Y_train)\n",
    "    Y_predict_brr = brr.predict(X_test)\n",
    "    mae.append(mean_absolute_error(Y_test, Y_predict_brr))\n",
    "fig, ax = plt.subplots(figsize=(9, 5), dpi=130)\n",
    "plt.subplot().tick_params(labelsize=30)\n",
    "ax.plot(grid['n_estimators'], mae, color='lightpink', linewidth=7)\n",
    "ax.set_xlabel('Number of estimators', fontsize=30)\n",
    "ax.set_ylabel('MAE', fontsize=30)\n",
    "ax.grid(True, alpha=0.5)\n",
    "#plt.show()\n",
    "plt.savefig(\"br_validation.pdf\", format=\"pdf\", bbox_inches=\"tight\")"
   ]
  },
  {
   "cell_type": "code",
   "execution_count": 46,
   "metadata": {},
   "outputs": [],
   "source": [
    "replica_actual = []\n",
    "for i in range(len(X_test)):\n",
    "    replica_actual.append(np.ceil((dataset[len(X_train)+i, 4] * X_test[i])/Y_test[i]))\n",
    "    #replica_actual.append(dataset[len(X_train)+i,4])\n",
    "    #replica_actual.append((Y_test[i]))\n",
    "\n",
    "\n",
    "replica_svr_ = []\n",
    "for i in range(len(X_test)):\n",
    "    replica_svr_.append(np.ceil((dataset[len(X_train)+i, 4] * X_test[i])/Y_predict_brr[i]))\n",
    "    #replica_svr_.append(np.ceil((Y_predict_brr[i])))"
   ]
  },
  {
   "cell_type": "code",
   "execution_count": 47,
   "metadata": {},
   "outputs": [
    {
     "data": {
      "text/plain": [
       "'from scipy.interpolate import pchip\\n\\nplt.figure(figsize=(9, 5), dpi=120)\\nplt.subplot().tick_params(labelsize=20)\\nN = X_test.shape[0] \\nX_ = np.linspace(np.arange(N).min(), np.arange(N).max(), 200) \\n\\nX_Y_Spline = pchip(np.arange(N), np.array(np.ceil(replica_actual)))\\nY_ = X_Y_Spline(X_)\\nplt.plot(X_,Y_, label=\\'Without prediction\\', color=\"red\", linestyle=\\'dashed\\')\\n\\nX_Y_Spline = pchip(np.arange(N), np.array(np.ceil(replica_svr_)))\\nY_ = X_Y_Spline(X_)\\nplt.plot(X_,Y_,  label=\\'SVR prediction\\', color=\"lightgreen\", linestyle=\\'dashed\\')\\n\\nplt.ylabel(\\'Number of replicas\\', fontsize=20)\\nplt.xlabel(\\'Microservice #id\\', fontsize=20)\\nplt.legend(loc=\\'upper center\\',bbox_to_anchor=(0.5, -0.2),fancybox=False, shadow=False, ncol=3, fontsize=20 )\\n#plt.show()\\nplt.savefig(\"NumberOfReplicas_SVR.pdf\", format=\"pdf\", bbox_inches=\"tight\")'"
      ]
     },
     "execution_count": 47,
     "metadata": {},
     "output_type": "execute_result"
    }
   ],
   "source": [
    "'''from scipy.interpolate import pchip\n",
    "\n",
    "plt.figure(figsize=(9, 5), dpi=120)\n",
    "plt.subplot().tick_params(labelsize=20)\n",
    "N = X_test.shape[0] \n",
    "X_ = np.linspace(np.arange(N).min(), np.arange(N).max(), 200) \n",
    "\n",
    "X_Y_Spline = pchip(np.arange(N), np.array(np.ceil(replica_actual)))\n",
    "Y_ = X_Y_Spline(X_)\n",
    "plt.plot(X_,Y_, label='Without prediction', color=\"red\", linestyle='dashed')\n",
    "\n",
    "X_Y_Spline = pchip(np.arange(N), np.array(np.ceil(replica_svr_)))\n",
    "Y_ = X_Y_Spline(X_)\n",
    "plt.plot(X_,Y_,  label='SVR prediction', color=\"lightgreen\", linestyle='dashed')\n",
    "\n",
    "plt.ylabel('Number of replicas', fontsize=20)\n",
    "plt.xlabel('Microservice #id', fontsize=20)\n",
    "plt.legend(loc='upper center',bbox_to_anchor=(0.5, -0.2),fancybox=False, shadow=False, ncol=3, fontsize=20 )\n",
    "#plt.show()\n",
    "plt.savefig(\"NumberOfReplicas_SVR.pdf\", format=\"pdf\", bbox_inches=\"tight\")'''"
   ]
  },
  {
   "cell_type": "code",
   "execution_count": 48,
   "metadata": {},
   "outputs": [
    {
     "name": "stdout",
     "output_type": "stream",
     "text": [
      "\n",
      "MAPE :  0.0764\n",
      "MAE :  0.9619\n",
      "MSE :  18.7459\n",
      "RMSE :  4.3297\n",
      "Actual number of replicas (min.):  1\n",
      "Predicted number of replicas (min.):  1\n",
      "Actual number of replicas (avg.):  4.0\n",
      "Predicted number of replicas (avg.):  3.0\n",
      "Actual number of replicas (max.):  42\n",
      "Predicted number of replicas (max.):  41\n"
     ]
    }
   ],
   "source": [
    "print()\n",
    "print(\"MAPE : \", np.round(mean_absolute_percentage_error(np.array(replica_actual), np.array(replica_svr_)),4))\n",
    "\n",
    "print(\"MAE : \", np.round(mean_absolute_error(np.array(replica_actual), np.array(replica_svr_)),4))\n",
    "\n",
    "print(\"MSE : \", np.round(mean_squared_error(np.array(replica_actual), np.array(replica_svr_)),4))\n",
    "\n",
    "print(\"RMSE : \", np.round(mean_squared_error(np.array(replica_actual), np.array(replica_svr_))**0.5,4))\n",
    "\n",
    "print(\"Actual number of replicas (min.): \",np.round(np.min(np.array(replica_actual)),0))\n",
    "print(\"Predicted number of replicas (min.): \",np.round(np.min(np.array(replica_svr_)),0))\n",
    "\n",
    "print(\"Actual number of replicas (avg.): \",np.round(np.average(np.array(replica_actual)),0))\n",
    "print(\"Predicted number of replicas (avg.): \",np.round(np.average(np.array(replica_svr_)),0))\n",
    "\n",
    "print(\"Actual number of replicas (max.): \",np.round(np.max(np.array(replica_actual)),0))\n",
    "print(\"Predicted number of replicas (max.): \",np.round(np.max(np.array(replica_svr_)),0))"
   ]
  },
  {
   "cell_type": "markdown",
   "metadata": {},
   "source": [
    "### MLP"
   ]
  },
  {
   "cell_type": "code",
   "execution_count": 49,
   "metadata": {},
   "outputs": [
    {
     "name": "stderr",
     "output_type": "stream",
     "text": [
      "C:\\Users\\b1108190\\AppData\\Local\\Packages\\PythonSoftwareFoundation.Python.3.9_qbz5n2kfra8p0\\LocalCache\\local-packages\\Python39\\site-packages\\sklearn\\neural_network\\_multilayer_perceptron.py:1631: DataConversionWarning: A column-vector y was passed when a 1d array was expected. Please change the shape of y to (n_samples, ), for example using ravel().\n",
      "  y = column_or_1d(y, warn=True)\n"
     ]
    }
   ],
   "source": [
    "from sklearn.neural_network import  MLPRegressor\n",
    "from sklearn.preprocessing import StandardScaler, MinMaxScaler, Normalizer\n",
    "'''model_nn = MLPRegressor(\n",
    "    solver = 'adam', \n",
    "    max_iter = 10000\n",
    ")\n",
    "\n",
    "parameters_nn = {\n",
    "    'hidden_layer_sizes': [\n",
    "        (40, 20, 10, 5, 2, ),\n",
    "        (40, 30, 20, 15, 12, 10, 8, 6, 4, 2, ),\n",
    "        (100, 50, 25, 12, 6, 3, ), \n",
    "        (60, 50, 40, 30, 20, 10, ),\n",
    "        (1000, 100, 10, ),\n",
    "        (200, 100, 50, 25, 12, 6, 3, 2, ),  \n",
    "    ],\n",
    "    'activation': ['identity', 'logistic', 'tanh', 'relu'],\n",
    "    'alpha': ss.loguniform(1e-5, 1e-3),\n",
    "    'beta_1': ss.uniform(0.5, 0.5),\n",
    "    'beta_2': ss.uniform(0.9, 0.1),\n",
    "    'epsilon': ss.loguniform(1e-9, 1e-7),\n",
    "    'learning_rate_init': ss.uniform(0.001, 0.8),\n",
    "}\n",
    "\n",
    "def halving_search(model, parameters):\n",
    "    return model_selection.HalvingRandomSearchCV(\n",
    "        estimator = model,\n",
    "        param_distributions = parameters,\n",
    "        n_candidates = search_n_candidates,\n",
    "        factor = search_factor,\n",
    "        aggressive_elimination = search_agg_elimination,\n",
    "        cv = search_cv,\n",
    "        scoring = search_scoring, \n",
    "        n_jobs = search_n_jobs,\n",
    "        verbose = search_verbose,\n",
    "        random_state=random_seed,\n",
    "    )\n",
    "# Rescale \n",
    "scaler_X = StandardScaler()\n",
    "scaler_Y = StandardScaler()\n",
    "\n",
    "# Fit and transform X_train, and fit (but not transform) y_train\n",
    "X_train_scaled = scaler_X.fit_transform(X_train)\n",
    "X_test_scaled = scaler_X.transform(X_test)\n",
    "Y_train_scaled = scaler_Y.fit_transform(Y_train)  # Reshape y if it's 1D\n",
    "\n",
    "search_nn = halving_search(model_nn, parameters_nn).fit(X_train_scaled, Y_train_scaled)\n",
    "# fill predictions\n",
    "Y_predict_mlp_1 = search_nn.best_estimator_.predict(X_test_scaled)\n",
    "#print(len(Y_predict_mlp_1))\n",
    "print(search_nn.best_estimator_)'''\n",
    "\n",
    "# Rescale \n",
    "scaler_X = StandardScaler()\n",
    "scaler_Y = StandardScaler()\n",
    "\n",
    "# Fit and transform X_train, and fit_transform Y_train\n",
    "X_train_scaled = scaler_X.fit_transform(X_train)\n",
    "X_test_scaled = scaler_X.transform(X_test)\n",
    "Y_train_scaled = scaler_Y.fit_transform(Y_train)  # Reshape y if it's 1D\n",
    "\n",
    "mlp_sk_learn = MLPRegressor(hidden_layer_sizes=(1,),solver = 'adam', max_iter = 10000)\n",
    "#MLPRegressor(alpha=0.0005349770235622181, beta_1=0.6150926341207776,beta_2=0.9499193379884753, epsilon=1.3931837441736628e-08,hidden_layer_sizes=(40, 20, 10, 5, 2),learning_rate_init=0.035883017403547005, max_iter=10000)\n",
    "#MLPRegressor(activation='tanh', alpha=1.5378674782977684e-05, beta_1=0.7131529401616195, beta_2=0.947322067394571,epsilon=1.4467524001482124e-08,hidden_layer_sizes=(40, 20, 10, 5, 2),learning_rate_init=0.02265518782175209, max_iter=10000) \n",
    "#MLPRegressor(activation='logistic', alpha=0.00036032215317318735, beta_1=0.9747855267253711, beta_2=0.9662526866950044, epsilon=1.064494130729993e-09, hidden_layer_sizes=(40, 30, 20, 15, 12, 10, 8, 6, 4, 2),learning_rate_init=0.6713559259990431, max_iter=10000)#MLPRegressor(activation='logistic', alpha=0.0006955289646247587, beta_1=0.5415562463153012, beta_2=0.9277718561281033, epsilon=1.0440310373117892e-09, hidden_layer_sizes=(100, 50, 25, 12, 6, 3),learning_rate_init=0.10643828992351374, max_iter=10000)\n",
    "#MLPRegressor(activation='relu', alpha=1e-05, batch_size=4, hidden_layer_sizes=(10,), learning_rate_init=0.01, max_iter=9, momentum=0.8, random_state=11, solver='sgd', tol=1e-05, verbose=True) # \n",
    "#print(mlp_sk_learn.get_params(True))\n",
    "#{'activation': 'relu', 'alpha': 0.0001, 'batch_size': 'auto', 'beta_1': 0.9, 'beta_2': 0.999, 'early_stopping': False, 'epsilon': 1e-08, 'hidden_layer_sizes': (100,), 'learning_rate': 'constant', 'learning_rate_init': 0.001, 'max_fun': 15000, 'max_iter': 10000, 'momentum': 0.9, 'n_iter_no_change': 10, 'nesterovs_momentum': True, 'power_t': 0.5, 'random_state': None, 'shuffle': True, 'solver': 'adam', 'tol': 0.0001, 'validation_fraction': 0.1, 'verbose': False, 'warm_start': False}\n",
    "\n",
    "# Train a model\n",
    "mlp_sk_learn.fit(X_train_scaled,Y_train_scaled)\n",
    "\n",
    "# Make predictions\n",
    "Y_predict_mlp_scaled = mlp_sk_learn.predict(X_test_scaled)\n",
    "\n",
    "# Inverse transform X_test\n",
    "X_test_original = scaler_X.inverse_transform(X_test_scaled)\n",
    "\n",
    "\n",
    "# Inverse transform the predictions and the actual Y_test to get back to the original scale\n",
    "Y_predict_mlp = scaler_Y.inverse_transform(Y_predict_mlp_scaled.reshape(-1,1))\n",
    "Y_predict_mlp = np.reshape(Y_predict_mlp, [Y_test.shape[0], 1])"
   ]
  },
  {
   "cell_type": "code",
   "execution_count": 50,
   "metadata": {},
   "outputs": [
    {
     "data": {
      "image/png": "[encoded data removed]",
      "text/plain": [
       "<Figure size 1080x600 with 1 Axes>"
      ]
     },
     "metadata": {},
     "output_type": "display_data"
    }
   ],
   "source": [
    "fig, ax = plt.subplots(figsize=(9, 5), dpi=120)\n",
    "ax.plot(mlp_sk_learn.loss_curve_, color='lightpink', linewidth=7)\n",
    "plt.subplot().tick_params(labelsize=30)\n",
    "ax.set_xlabel('Epoch', fontsize=30)\n",
    "ax.set_ylabel('Loss', fontsize=30)\n",
    "#plt.yticks(range(8, 22, 2))\n",
    "ax.grid(True, alpha=0.5)\n",
    "#plt.show()\n",
    "plt.savefig(\"mlp_validation.pdf\", format=\"pdf\", bbox_inches=\"tight\")"
   ]
  },
  {
   "cell_type": "code",
   "execution_count": 51,
   "metadata": {},
   "outputs": [
    {
     "name": "stdout",
     "output_type": "stream",
     "text": [
      "MAPE : 36.78573527036598\n",
      "MAE : 47.17676134922957\n",
      "MSE : 3045.4909049230027\n",
      "RMSE: 55.185966557839706\n"
     ]
    }
   ],
   "source": [
    "mae = mean_absolute_error(Y_test, Y_predict_mlp)\n",
    "mape = mean_absolute_percentage_error(Y_test, Y_predict_mlp)\n",
    "mse = mean_squared_error(Y_test, Y_predict_mlp)\n",
    "rmse_test = mse ** 0.5\n",
    "#mape = mean_absolute_percentage_error(Y_val, Y_predict_mlp)\n",
    "#mae = mean_absolute_error(Y_val, Y_predict_mlp)\n",
    "#mse = mean_squared_error(Y_val, Y_predict_mlp)\n",
    "print(f\"MAPE : {mape}\")\n",
    "print(f\"MAE : {mae}\")\n",
    "print(f\"MSE : {mse}\")\n",
    "print(f\"RMSE: {rmse_test}\")"
   ]
  },
  {
   "cell_type": "code",
   "execution_count": 52,
   "metadata": {},
   "outputs": [],
   "source": [
    "replica_actual = []\n",
    "for i in range(len(X_test)):\n",
    "    replica_actual.append(np.ceil((dataset[len(X_train)+i, 4] * X_test[i])/Y_test[i]))\n",
    "    #replica_actual.append(dataset[len(X_train)+i,4])   \n",
    "    #replica_actual.append((Y_test[i]))\n",
    " \n",
    "replica_mlp = []\n",
    "for i in range(len(X_test)):\n",
    "    replica_mlp.append(np.ceil((dataset[len(X_train)+i, 4] * X_test[i])/Y_predict_mlp[i]))\n",
    "    #replica_svr_.append(np.ceil((Y_predict_mlp[i])))"
   ]
  },
  {
   "cell_type": "code",
   "execution_count": 53,
   "metadata": {},
   "outputs": [
    {
     "data": {
      "text/plain": [
       "'plt.figure(figsize=(9, 5), dpi=120)\\nplt.subplot().tick_params(labelsize=20)\\nN = X_test.shape[0] \\nX_ = np.linspace(np.arange(N).min(), np.arange(N).max(), 200)\\n\\nX_Y_Spline = pchip(np.arange(N), np.array(np.ceil(replica_actual)))\\nY_ = X_Y_Spline(X_)\\nplt.plot(X_,Y_, label=\\'Without prediction\\', color=\"red\", linestyle=\\'dashed\\')\\n\\nX_Y_Spline = pchip(np.arange(N), np.array(np.ceil(replica_mlp)))\\nY_ = X_Y_Spline(X_)\\nplt.plot(X_,Y_,  label=\\'MLP prediction\\', color=\"lightgreen\", linestyle=\\'dashed\\')\\n\\nplt.ylabel(\\'Number of replicas\\', fontsize=20)\\nplt.xlabel(\\'Microservice #id\\', fontsize=20)\\nplt.legend(loc=\\'upper center\\',bbox_to_anchor=(0.5, -0.2),fancybox=False, shadow=False, ncol=3, fontsize=20 )\\n#plt.show()\\nplt.savefig(\"NumberOfReplicas_dtr.pdf\", format=\"pdf\", bbox_inches=\"tight\")'"
      ]
     },
     "execution_count": 53,
     "metadata": {},
     "output_type": "execute_result"
    }
   ],
   "source": [
    "'''plt.figure(figsize=(9, 5), dpi=120)\n",
    "plt.subplot().tick_params(labelsize=20)\n",
    "N = X_test.shape[0] \n",
    "X_ = np.linspace(np.arange(N).min(), np.arange(N).max(), 200)\n",
    "\n",
    "X_Y_Spline = pchip(np.arange(N), np.array(np.ceil(replica_actual)))\n",
    "Y_ = X_Y_Spline(X_)\n",
    "plt.plot(X_,Y_, label='Without prediction', color=\"red\", linestyle='dashed')\n",
    "\n",
    "X_Y_Spline = pchip(np.arange(N), np.array(np.ceil(replica_mlp)))\n",
    "Y_ = X_Y_Spline(X_)\n",
    "plt.plot(X_,Y_,  label='MLP prediction', color=\"lightgreen\", linestyle='dashed')\n",
    "\n",
    "plt.ylabel('Number of replicas', fontsize=20)\n",
    "plt.xlabel('Microservice #id', fontsize=20)\n",
    "plt.legend(loc='upper center',bbox_to_anchor=(0.5, -0.2),fancybox=False, shadow=False, ncol=3, fontsize=20 )\n",
    "#plt.show()\n",
    "plt.savefig(\"NumberOfReplicas_dtr.pdf\", format=\"pdf\", bbox_inches=\"tight\")'''"
   ]
  },
  {
   "cell_type": "code",
   "execution_count": 54,
   "metadata": {},
   "outputs": [
    {
     "name": "stdout",
     "output_type": "stream",
     "text": [
      "\n",
      "MAPE :  0.1771\n",
      "MAE :  1.1229\n",
      "MSE :  21.2613\n",
      "RMSE :  4.611\n",
      "Actual number of replicas (min.):  1\n",
      "Predicted number of replicas (min.):  1\n",
      "Actual number of replicas (avg.):  4.0\n",
      "Predicted number of replicas (avg.):  3.0\n",
      "Actual number of replicas (max.):  42\n",
      "Predicted number of replicas (max.):  38\n"
     ]
    }
   ],
   "source": [
    "print()\n",
    "\n",
    "print(\"MAPE : \", np.round(mean_absolute_percentage_error(np.array(replica_actual), np.array(replica_mlp)),4))\n",
    "\n",
    "print(\"MAE : \", np.round(mean_absolute_error(np.array(replica_actual), np.array(replica_mlp)),4))\n",
    "\n",
    "print(\"MSE : \", np.round(mean_squared_error(np.array(replica_actual), np.array(replica_mlp)),4))\n",
    "\n",
    "print(\"RMSE : \", np.round(mean_squared_error(np.array(replica_actual), np.array(replica_mlp))**0.5,4))\n",
    "\n",
    "print(\"Actual number of replicas (min.): \",np.round(np.min(np.array(replica_actual)),0))\n",
    "print(\"Predicted number of replicas (min.): \",np.round(np.min(np.array(replica_mlp)),0))\n",
    "\n",
    "print(\"Actual number of replicas (avg.): \",np.round(np.average(np.array(replica_actual)),0))\n",
    "print(\"Predicted number of replicas (avg.): \",np.round(np.average(np.array(replica_mlp)),0))\n",
    "\n",
    "print(\"Actual number of replicas (max.): \",np.round(np.max(np.array(replica_actual)),0))\n",
    "print(\"Predicted number of replicas (max.): \",np.round(np.max(np.array(replica_mlp)),0))"
   ]
  }
 ],
 "metadata": {
  "colab": {
   "provenance": []
  },
  "kernelspec": {
   "display_name": "Python 3",
   "language": "python",
   "name": "python3"
  },
  "language_info": {
   "codemirror_mode": {
    "name": "ipython",
    "version": 3
   },
   "file_extension": ".py",
   "mimetype": "text/x-python",
   "name": "python",
   "nbconvert_exporter": "python",
   "pygments_lexer": "ipython3",
   "version": "3.9.13"
  },
  "vscode": {
   "interpreter": {
    "hash": "8e1635946a236ad0ba235f5bfccd5502c030f416e6b5af01b8e6e42b34db415a"
   }
  }
 },
 "nbformat": 4,
 "nbformat_minor": 1
}
